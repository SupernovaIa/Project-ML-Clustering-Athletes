{
 "cells": [
  {
   "cell_type": "markdown",
   "metadata": {},
   "source": [
    "## Importing libraries"
   ]
  },
  {
   "cell_type": "code",
   "execution_count": 1,
   "metadata": {},
   "outputs": [],
   "source": [
    "# Data processing  \n",
    "# -----------------------------------------------------------------------\n",
    "import pandas as pd\n",
    "import numpy as np\n",
    "import pickle\n",
    "\n",
    "# Pandas options  \n",
    "# -----------------------------------------------------------------------\n",
    "pd.options.display.max_colwidth = None\n",
    "\n",
    "# Path configuration for custom module imports\n",
    "# -----------------------------------------------------------------------\n",
    "import sys\n",
    "sys.path.append('../')  # Adds the parent directory to the path for custom module imports\n",
    "\n",
    "# Ignore warnings  \n",
    "# -----------------------------------------------------------------------\n",
    "import warnings\n",
    "warnings.filterwarnings(\"ignore\")\n",
    "\n",
    "# Custom functions and classes\n",
    "# -----------------------------------------------------------------------\n",
    "from src.support_preprocess import preprocess"
   ]
  },
  {
   "cell_type": "markdown",
   "metadata": {},
   "source": [
    "## Data loading"
   ]
  },
  {
   "cell_type": "code",
   "execution_count": 2,
   "metadata": {},
   "outputs": [],
   "source": [
    "df = pd.read_csv('../data/raw/WrestlingWorldTournament.csv', index_col=0)"
   ]
  },
  {
   "cell_type": "code",
   "execution_count": 3,
   "metadata": {},
   "outputs": [
    {
     "data": {
      "text/html": [
       "<div>\n",
       "<style scoped>\n",
       "    .dataframe tbody tr th:only-of-type {\n",
       "        vertical-align: middle;\n",
       "    }\n",
       "\n",
       "    .dataframe tbody tr th {\n",
       "        vertical-align: top;\n",
       "    }\n",
       "\n",
       "    .dataframe thead th {\n",
       "        text-align: right;\n",
       "    }\n",
       "</style>\n",
       "<table border=\"1\" class=\"dataframe\">\n",
       "  <thead>\n",
       "    <tr style=\"text-align: right;\">\n",
       "      <th></th>\n",
       "      <th>name</th>\n",
       "      <th>gender</th>\n",
       "      <th>age</th>\n",
       "      <th>height</th>\n",
       "      <th>nationality</th>\n",
       "      <th>weight</th>\n",
       "      <th>sports</th>\n",
       "      <th>hours_per_day</th>\n",
       "      <th>strength</th>\n",
       "      <th>agility</th>\n",
       "      <th>mental</th>\n",
       "      <th>federation</th>\n",
       "      <th>year_start</th>\n",
       "      <th>rank</th>\n",
       "    </tr>\n",
       "  </thead>\n",
       "  <tbody>\n",
       "    <tr>\n",
       "      <th>0</th>\n",
       "      <td>Aaron Peavy</td>\n",
       "      <td>Female</td>\n",
       "      <td>41</td>\n",
       "      <td>165.0</td>\n",
       "      <td>England</td>\n",
       "      <td>82</td>\n",
       "      <td>Boxing, MMA</td>\n",
       "      <td>3</td>\n",
       "      <td>7</td>\n",
       "      <td>8</td>\n",
       "      <td>7</td>\n",
       "      <td>Fight Zone Wrestling</td>\n",
       "      <td>1989</td>\n",
       "      <td>42</td>\n",
       "    </tr>\n",
       "    <tr>\n",
       "      <th>1</th>\n",
       "      <td>Abe Rutland</td>\n",
       "      <td>Male</td>\n",
       "      <td>36</td>\n",
       "      <td>185.0</td>\n",
       "      <td>Japan</td>\n",
       "      <td>100</td>\n",
       "      <td>Judo</td>\n",
       "      <td>0</td>\n",
       "      <td>8</td>\n",
       "      <td>5</td>\n",
       "      <td>9</td>\n",
       "      <td>World Wrestling Entertainment</td>\n",
       "      <td>2006</td>\n",
       "      <td>161</td>\n",
       "    </tr>\n",
       "    <tr>\n",
       "      <th>2</th>\n",
       "      <td>Adrian Quinn</td>\n",
       "      <td>Male</td>\n",
       "      <td>29</td>\n",
       "      <td>178.5</td>\n",
       "      <td>Japan</td>\n",
       "      <td>93</td>\n",
       "      <td>Karate</td>\n",
       "      <td>4</td>\n",
       "      <td>8</td>\n",
       "      <td>8</td>\n",
       "      <td>7</td>\n",
       "      <td>World Wrestling Entertainment</td>\n",
       "      <td>2012</td>\n",
       "      <td>153</td>\n",
       "    </tr>\n",
       "    <tr>\n",
       "      <th>3</th>\n",
       "      <td>Alan Beckham</td>\n",
       "      <td>Male</td>\n",
       "      <td>39</td>\n",
       "      <td>187.5</td>\n",
       "      <td>Japan</td>\n",
       "      <td>107</td>\n",
       "      <td>Judo</td>\n",
       "      <td>3</td>\n",
       "      <td>7</td>\n",
       "      <td>6</td>\n",
       "      <td>8</td>\n",
       "      <td>Fight Zone Wrestling</td>\n",
       "      <td>2003</td>\n",
       "      <td>252</td>\n",
       "    </tr>\n",
       "    <tr>\n",
       "      <th>4</th>\n",
       "      <td>Albertha Rodriguez</td>\n",
       "      <td>Female</td>\n",
       "      <td>29</td>\n",
       "      <td>158.0</td>\n",
       "      <td>USA</td>\n",
       "      <td>72</td>\n",
       "      <td>MMA</td>\n",
       "      <td>1</td>\n",
       "      <td>5</td>\n",
       "      <td>7</td>\n",
       "      <td>7</td>\n",
       "      <td>Consejo Global de Lucha Libre</td>\n",
       "      <td>2012</td>\n",
       "      <td>360</td>\n",
       "    </tr>\n",
       "  </tbody>\n",
       "</table>\n",
       "</div>"
      ],
      "text/plain": [
       "                 name  gender  age  height nationality  weight       sports  \\\n",
       "0         Aaron Peavy  Female   41   165.0     England      82  Boxing, MMA   \n",
       "1         Abe Rutland    Male   36   185.0       Japan     100         Judo   \n",
       "2        Adrian Quinn    Male   29   178.5       Japan      93       Karate   \n",
       "3        Alan Beckham    Male   39   187.5       Japan     107         Judo   \n",
       "4  Albertha Rodriguez  Female   29   158.0         USA      72          MMA   \n",
       "\n",
       "   hours_per_day  strength  agility  mental                     federation  \\\n",
       "0              3         7        8       7           Fight Zone Wrestling   \n",
       "1              0         8        5       9  World Wrestling Entertainment   \n",
       "2              4         8        8       7  World Wrestling Entertainment   \n",
       "3              3         7        6       8           Fight Zone Wrestling   \n",
       "4              1         5        7       7  Consejo Global de Lucha Libre   \n",
       "\n",
       "   year_start  rank  \n",
       "0        1989    42  \n",
       "1        2006   161  \n",
       "2        2012   153  \n",
       "3        2003   252  \n",
       "4        2012   360  "
      ]
     },
     "execution_count": 3,
     "metadata": {},
     "output_type": "execute_result"
    }
   ],
   "source": [
    "df.head()"
   ]
  },
  {
   "cell_type": "markdown",
   "metadata": {},
   "source": [
    "Antes de nada vamos a eliminar las columnas que no nos resulten de interés. En nuestro caso vamos a eliminar `name`, `sports` y `year_start` por el momento.\n",
    "\n",
    "* `name` es un identificador único y no lo necesitamos.\n",
    "\n",
    "* `sports` contiene una lista de deportes entre los que solamente se encuentran artes marciales. Podríamos separar la lista en diferentes columnas o contar el número de deportes, pero esto generaría más columnas o información sesgada, por lo que simplemente la eliminamos por el momento.\n",
    "\n",
    "* `year_start` proporciona una información similar a `age` pero es más difícil de interpretar."
   ]
  },
  {
   "cell_type": "markdown",
   "metadata": {},
   "source": [
    "## Encoding"
   ]
  },
  {
   "cell_type": "markdown",
   "metadata": {},
   "source": [
    "Para realizar el encoding de las variables categóricas podemos definir diferentes estrategias. Como en este caso queremos entrenar un modelo de clustering no tenemos una variable respuesta contra la que llevar a cabo un `TargetEncoding` por lo que directamente ejecutaremos un `FrequencyEncoding` salvo para gender, que usamos un `OneHotEncoding`"
   ]
  },
  {
   "cell_type": "markdown",
   "metadata": {},
   "source": [
    "## Scaling"
   ]
  },
  {
   "cell_type": "markdown",
   "metadata": {},
   "source": [
    "Vamos a probar utilizando un escalador `minmax`"
   ]
  },
  {
   "cell_type": "markdown",
   "metadata": {},
   "source": [
    "## Execution"
   ]
  },
  {
   "cell_type": "code",
   "execution_count": 4,
   "metadata": {},
   "outputs": [],
   "source": [
    "df = pd.read_csv('../data/raw/WrestlingWorldTournament.csv', index_col=0)\n",
    "\n",
    "cols = ['name', 'sports', 'year_start']\n",
    "\n",
    "encoding_methods = {\"onehot\": ['gender'],\n",
    "                    \"target\": [],\n",
    "                    \"ordinal\" : {},\n",
    "                    \"frequency\": ['nationality', 'federation']\n",
    "                    }\n",
    "\n",
    "df_encoded, df_scaled = preprocess(df, encoding_methods, \"minmax\", columns_drop=cols)"
   ]
  },
  {
   "cell_type": "markdown",
   "metadata": {},
   "source": [
    "## Data saving"
   ]
  },
  {
   "cell_type": "code",
   "execution_count": 5,
   "metadata": {},
   "outputs": [],
   "source": [
    "df_encoded.to_csv('../data/output/WrestlingWorldTournament_encoded.csv')\n",
    "df_scaled.to_csv('../data/output/WrestlingWorldTournament_scaled.csv')"
   ]
  }
 ],
 "metadata": {
  "kernelspec": {
   "display_name": "proyecto7",
   "language": "python",
   "name": "python3"
  },
  "language_info": {
   "codemirror_mode": {
    "name": "ipython",
    "version": 3
   },
   "file_extension": ".py",
   "mimetype": "text/x-python",
   "name": "python",
   "nbconvert_exporter": "python",
   "pygments_lexer": "ipython3",
   "version": "3.12.7"
  }
 },
 "nbformat": 4,
 "nbformat_minor": 2
}
